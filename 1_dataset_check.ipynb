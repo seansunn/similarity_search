{
 "cells": [
  {
   "cell_type": "code",
   "execution_count": 1,
   "id": "130d5c18-d811-4809-94f8-6e67211decc3",
   "metadata": {},
   "outputs": [],
   "source": [
    "from datasets import load_from_disk\n"
   ]
  },
  {
   "cell_type": "code",
   "execution_count": 2,
   "id": "3e28d0fc-ab9c-4ac0-8e3d-4e8bd397d8a7",
   "metadata": {},
   "outputs": [],
   "source": [
    "nf = load_from_disk('data/eval_nf')\n",
    "\n",
    "# med_vicuna = load_from_disk('data/finetuning_vicuna')\n",
    "med_llama = load_from_disk('data/finetuning_llama')\n"
   ]
  },
  {
   "cell_type": "code",
   "execution_count": 3,
   "id": "f8f91a68-00f0-4ca6-b8cf-8931b3549249",
   "metadata": {},
   "outputs": [
    {
     "data": {
      "text/plain": [
       "DatasetDict({\n",
       "    docs: Dataset({\n",
       "        features: ['doc_id', 'doc_str'],\n",
       "        num_rows: 3633\n",
       "    })\n",
       "    qrels: Dataset({\n",
       "        features: ['query_id', 'query', 'rel_doc_ids'],\n",
       "        num_rows: 323\n",
       "    })\n",
       "})"
      ]
     },
     "execution_count": 3,
     "metadata": {},
     "output_type": "execute_result"
    }
   ],
   "source": [
    "nf\n"
   ]
  },
  {
   "cell_type": "code",
   "execution_count": 4,
   "id": "a90e7022-505c-4e1a-858f-a31a7e585cbd",
   "metadata": {},
   "outputs": [
    {
     "data": {
      "text/plain": [
       "'Do Cholesterol Statin Drugs Cause Breast Cancer?'"
      ]
     },
     "execution_count": 4,
     "metadata": {},
     "output_type": "execute_result"
    }
   ],
   "source": [
    "nf['qrels'][0]['query']\n"
   ]
  },
  {
   "cell_type": "code",
   "execution_count": 5,
   "id": "553452bf-db1c-4501-b9db-a2234982d997",
   "metadata": {},
   "outputs": [
    {
     "data": {
      "text/plain": [
       "['MED-2427',\n",
       " 'MED-10',\n",
       " 'MED-2429',\n",
       " 'MED-2430',\n",
       " 'MED-2431',\n",
       " 'MED-14',\n",
       " 'MED-2432',\n",
       " 'MED-2428',\n",
       " 'MED-2440',\n",
       " 'MED-2434',\n",
       " 'MED-2435',\n",
       " 'MED-2436',\n",
       " 'MED-2437',\n",
       " 'MED-2438',\n",
       " 'MED-2439',\n",
       " 'MED-3597',\n",
       " 'MED-3598',\n",
       " 'MED-3599',\n",
       " 'MED-4556',\n",
       " 'MED-4559',\n",
       " 'MED-4560',\n",
       " 'MED-4828',\n",
       " 'MED-4829',\n",
       " 'MED-4830']"
      ]
     },
     "execution_count": 5,
     "metadata": {},
     "output_type": "execute_result"
    }
   ],
   "source": [
    "nf['qrels'][0]['rel_doc_ids']\n"
   ]
  },
  {
   "cell_type": "code",
   "execution_count": 6,
   "id": "f60ce0cf-ed91-4d61-90b6-1f92e8f3b7a7",
   "metadata": {},
   "outputs": [
    {
     "data": {
      "text/plain": [
       "'Statin Use and Breast Cancer Survival: A Nationwide Cohort Study from Finland. Recent studies have suggested that statins, an established drug group in the prevention of cardiovascular mortality, could delay or prevent breast cancer recurrence but the effect on disease-specific mortality remains unclear. We evaluated risk of breast cancer death among statin users in a population-based cohort of breast cancer patients. The study cohort included all newly diagnosed breast cancer patients in Finland during 1995–2003 (31,236 cases), identified from the Finnish Cancer Registry. Information on statin use before and after the diagnosis was obtained from a national prescription database. We used the Cox proportional hazards regression method to estimate mortality among statin users with statin use as time-dependent variable. A total of 4,151 participants had used statins. During the median follow-up of 3.25 years after the diagnosis (range 0.08–9.0 years) 6,011 participants died, of which 3,619 (60.2%) was due to breast cancer. After adjustment for age, tumor characteristics, and treatment selection, both post-diagnostic and pre-diagnostic statin use were associated with lowered risk of breast cancer death (HR 0.46, 95% CI 0.38–0.55 and HR 0.54, 95% CI 0.44–0.67, respectively). The risk decrease by post-diagnostic statin use was likely affected by healthy adherer bias; that is, the greater likelihood of dying cancer patients to discontinue statin use as the association was not clearly dose-dependent and observed already at low-dose/short-term use. The dose- and time-dependence of the survival benefit among pre-diagnostic statin users suggests a possible causal effect that should be evaluated further in a clinical trial testing statins’ effect on survival in breast cancer patients.'"
      ]
     },
     "execution_count": 6,
     "metadata": {},
     "output_type": "execute_result"
    }
   ],
   "source": [
    "nf['docs'][0]['doc_str']\n"
   ]
  },
  {
   "cell_type": "code",
   "execution_count": 7,
   "id": "8586011e-15c3-41bf-bb80-46cda9f650dc",
   "metadata": {},
   "outputs": [
    {
     "data": {
      "text/plain": [
       "'MED-10'"
      ]
     },
     "execution_count": 7,
     "metadata": {},
     "output_type": "execute_result"
    }
   ],
   "source": [
    "nf['docs'][0]['doc_id']\n"
   ]
  },
  {
   "cell_type": "code",
   "execution_count": 8,
   "id": "5938ffe7-cf37-481e-9724-1ec644b3a52d",
   "metadata": {},
   "outputs": [
    {
     "data": {
      "text/plain": [
       "DatasetDict({\n",
       "    train: Dataset({\n",
       "        features: ['conversation'],\n",
       "        num_rows: 890\n",
       "    })\n",
       "    test: Dataset({\n",
       "        features: ['conversation', 'answer', 'full_answer'],\n",
       "        num_rows: 100\n",
       "    })\n",
       "})"
      ]
     },
     "execution_count": 8,
     "metadata": {},
     "output_type": "execute_result"
    }
   ],
   "source": [
    "med_llama\n"
   ]
  },
  {
   "cell_type": "code",
   "execution_count": 9,
   "id": "538d5fbe-7854-4762-8df5-a972f9d20bb6",
   "metadata": {},
   "outputs": [
    {
     "name": "stdout",
     "output_type": "stream",
     "text": [
      "<s>[INST] # Carefully read and consider the following <Context>:\n",
      "## Context\n",
      "### To assess whether eligibility to an adjuvant chemotherapy protocol in itself represents a good prognostic factor after radical cystectomy for bladder cancer.\n",
      "### Between April 1984 and May 1989, our institution entered 35 patients with invasive bladder cancer into the Swiss Group for Clinical and Epidemiological Cancer Research (SAKK) study 09/84. They were randomly assigned to either observation or three postoperative courses of cisplatin monotherapy after cystectomy. This study had a negative result. The outcome of these 35 patients (protocol group) was compared with an age- and tumor-stage-matched cohort (matched group; n = 35) who also underwent cystectomy during the same period, but were not entered into the SAKK study, as well as the remaining 57 patients treated during the study period for the same indication (remaining group).\n",
      "### Median overall survival decreased from 76.3 months in the protocol group to 52.1 months in the matched group and to 20.3 months in the remaining group. The respective times of median recurrence-free survival were 67.2, 16.0, and 9.4 months. Tumor progression occurred in 46% of the protocol group compared with 69% in the matched group and 65% in the remaining group (P<.05). Cancer-related death was noted in 40% of the protocol group, 57% in the matched group, and 56% in the remaining group.\n",
      "\n",
      "# Based on all the provided <Context>, answer the following <Question>: \n",
      "## Question: \n",
      "Is eligibility for a chemotherapy protocol a good prognostic factor for invasive bladder cancer after radical cystectomy?\n",
      "\n",
      "# Start your response with either 'yes' or 'no', followed by a short, concise explanation of your answer based on the <Context>. \n",
      "Your answer is:  [/INST] Yes. These data suggest that being willing and fit enough for a chemotherapy protocol is a good prognostic factor for invasive bladder cancer. This eligibility bias emphasizes the need for prospective, randomized trials, and indicates that single-group studies using historical or matched controls have to be interpreted with caution. </s>\n"
     ]
    }
   ],
   "source": [
    "print(med_llama['train'][0]['conversation'])\n"
   ]
  },
  {
   "cell_type": "code",
   "execution_count": 10,
   "id": "a283eb0b-0dc3-4ff8-8423-65a37594159a",
   "metadata": {},
   "outputs": [
    {
     "name": "stdout",
     "output_type": "stream",
     "text": [
      "<s>[INST] # Carefully read and consider the following <Context>:\n",
      "## Context\n",
      "### The purpose of this study was to retrospectively assess the potential benefits of delayed phase imaging series in routine CT scans of the abdomen and pelvis.\n",
      "### Routine contrast-enhanced abdominopelvic CT scans of 1000 consecutively examined patients (912 men, 88 women; average age, 60 years; range, 22-94 years) were retrospectively evaluated, and the added benefits of the delayed phase series through the abdomen were recorded for each examination. Examinations performed for indications requiring multiphasic imaging were excluded. Images were reviewed by two fellowship-trained abdominal radiologists, who were blinded to official CT reports. All examinations were performed between July 2008 and February 2010 at a single institution. Radiation doses for both the portal venous and delayed phases, when available, were analyzed to assess the effect of the delayed phase on overall radiation exposure.\n",
      "### Forty-two patients (4.2%) had findings that were further characterized or were observed only in the delayed phase. Most were incidental findings that could have been confirmed at noninvasive follow-up imaging, such as sonography or unenhanced CT or MRI. The most common findings were liver hemangioma (n = 12), adrenal adenoma (n = 12), and parapelvic renal cysts (n = 6). The most important finding was detection of a renal mass in one patient (0.1%). The mass was seen only on the delayed phase images but was difficult to appreciate in the portal venous phase. In the other 958 patients (95.8%), delayed imaging was of no benefit. In addition, use of the delayed phase resulted in a mean 59.5% increase in effective radiation dose.\n",
      "\n",
      "# Based on all the provided <Context>, answer the following <Question>: \n",
      "## Question: \n",
      "Delayed imaging in routine CT examinations of the abdomen and pelvis: is it worth the additional cost of radiation and time?\n",
      "\n",
      "# Start your response with either 'yes' or 'no', followed by a short, concise explanation of your answer based on the <Context>. \n",
      "Your answer is:  [/INST] No. An additional delayed phase through the abdomen in routine contrast-enhanced CT examinations of the abdomen and pelvis is of low yield, particularly if reliable follow-up imaging to further elucidate uncertain findings is available. </s>\n"
     ]
    }
   ],
   "source": [
    "print(med_llama['train'][1]['conversation'])\n"
   ]
  },
  {
   "cell_type": "code",
   "execution_count": 11,
   "id": "54a52328-8d32-4c00-8e86-b2e2f7a0edd6",
   "metadata": {},
   "outputs": [
    {
     "name": "stdout",
     "output_type": "stream",
     "text": [
      "<s>[INST] # Carefully read and consider the following <Context>:\n",
      "## Context\n",
      "### More than 1000 candidates applied for orthopaedic residency positions in 2014, and the competition is intense; approximately one-third of the candidates failed to secure a position in the match. However, the criteria used in the selection process often are subjective and studies have differed in terms of which criteria predict either objective measures or subjective ratings of resident performance by faculty.QUESTIONS/\n",
      "### Do preresidency selection factors serve as predictors of success in residency? Specifically, we asked which preresidency selection factors are associated or correlated with (1) objective measures of resident knowledge and performance; and (2) subjective ratings by faculty.\n",
      "### Charts of 60 orthopaedic residents from our institution were reviewed. Preresidency selection criteria examined included United States Medical Licensing Examination (USMLE) Step 1 and Step 2 scores, Medical College Admission Test (MCAT) scores, number of clinical clerkship honors, number of letters of recommendation, number of away rotations, Alpha Omega Alpha (AOA) honor medical society membership, fourth-year subinternship at our institution, and number of publications. Resident performance was assessed using objective measures including American Board of Orthopaedic Surgery (ABOS) Part I scores and Orthopaedics In-Training Exam (OITE) scores and subjective ratings by faculty including global evaluation scores and faculty rankings of residents. We tested associations between preresidency criteria and the subsequent objective and subjective metrics using linear correlation analysis and Mann-Whitney tests when appropriate.\n",
      "### Objective measures of resident performance namely, ABOS Part I scores, had a moderate linear correlation with the USMLE Step 2 scores (r = 0.55, p<0.001) and number of clinical honors received in medical school (r = 0.45, p<0.001). OITE scores had a weak linear correlation with the number of clinical honors (r = 0.35, p = 0.009) and USMLE Step 2 scores (r = 0.29, p = 0.02). With regards to subjective outcomes, AOA membership was associated with higher scores on the global evaluation (p = 0.005). AOA membership also correlated with higher global evaluation scores (r = 0.60, p = 0.005) with the strongest correlation existing between AOA membership and the \"interpersonal and communication skills\" subsection of the global evaluations.\n",
      "\n",
      "# Based on all the provided <Context>, answer the following <Question>: \n",
      "## Question: \n",
      "Does Residency Selection Criteria Predict Performance in Orthopaedic Surgery Residency?\n",
      "\n",
      "# Start your response with either 'yes' or 'no', followed by a short, concise explanation of your answer based on the <Context>. \n",
      "Your answer is:  [/INST] Yes. We found that USMLE Step 2, number of honors in medical school clerkships, and AOA membership demonstrated the strongest correlations with resident performance. Our goal in analyzing these data was to provide residency programs at large a sense of which criteria may be \"high yield\" in ranking applicants by analyzing data from within our own pool of residents. Similar studies across a broader scope of programs are warranted to confirm applicability of our findings. The continually emerging complexities of the field of orthopaedic surgery lend increasing importance to future work on the appropriate selection and training of orthopaedic residents. </s>\n"
     ]
    }
   ],
   "source": [
    "print(med_llama['train'][4]['conversation'])\n"
   ]
  },
  {
   "cell_type": "code",
   "execution_count": 12,
   "id": "c7ad7d16-95c4-4748-a2cb-25276fcfc8d8",
   "metadata": {},
   "outputs": [
    {
     "name": "stdout",
     "output_type": "stream",
     "text": [
      "<s>[INST] # Carefully read and consider the following <Context>:\n",
      "## Context\n",
      "### To evaluate causes and consequences of not adhering to the clinical practice guideline for cutaneous malignant melanoma.\n",
      "### We conducted a retrospective cohort study of the clinical records of 454 subjects whose pathological reports were obtained from a population-based cancer registry to assess determinants and effects of non-compliance of physicians with the excision policy and the related clinical practice guideline for patients with primary localized cutaneous malignant melanoma (CMM). A comparative analysis was performed of patients who did and did not undergo re-excision (compliance versus non-compliance with the guideline). Subjects diagnosed in 1988, 1993 and 1997, just 1 year after publication of the (adapted) guideline, were followed until death due to any cause or until July 1st 2003.\n",
      "### Old age was the most important determinant of non-compliance. After adjusting for age at diagnosis, gender, subsite and Breslow thickness there was no significant difference in overall survival between the compliance group and the non-compliance group.\n",
      "\n",
      "# Based on all the provided <Context>, answer the following <Question>: \n",
      "## Question: \n",
      "Does non-compliance with the re-excision guidelines for cutaneous melanoma in The Netherlands influence survival?\n",
      "\n",
      "# Start your response with either 'yes' or 'no', followed by a short, concise explanation of your answer based on the <Context>. \n",
      "Your answer is:  [/INST] \n"
     ]
    }
   ],
   "source": [
    "print(med_llama['test'][2]['conversation'])\n"
   ]
  },
  {
   "cell_type": "code",
   "execution_count": 13,
   "id": "ad8e6fa1-4fd9-4260-b21f-89b2751d00a7",
   "metadata": {},
   "outputs": [
    {
     "name": "stdout",
     "output_type": "stream",
     "text": [
      "No. Non-compliance to the guideline is more common in older patients and in patients with melanoma in the head and neck region. After adjusting for confounders, a significant effect of complying with the guidelines on overall survival could not be observed.\n"
     ]
    }
   ],
   "source": [
    "print(med_llama['test'][2]['full_answer'])\n"
   ]
  },
  {
   "cell_type": "code",
   "execution_count": 14,
   "id": "00b19c3b-5c91-4979-88f4-5c5889ad27c6",
   "metadata": {},
   "outputs": [],
   "source": [
    "# med_vicuna\n"
   ]
  },
  {
   "cell_type": "code",
   "execution_count": 15,
   "id": "39972e76-6aa2-4c05-a450-52625badf2ee",
   "metadata": {},
   "outputs": [],
   "source": [
    "# print(med_vicuna['train'][0]['conversation'])\n"
   ]
  },
  {
   "cell_type": "code",
   "execution_count": 16,
   "id": "15d4e546-1272-4ff0-a010-113c74c044a3",
   "metadata": {},
   "outputs": [],
   "source": [
    "# print(med_vicuna['train'][1]['conversation'])\n"
   ]
  },
  {
   "cell_type": "code",
   "execution_count": 17,
   "id": "5e3e1c7a-e987-4b3a-8f57-f0e681609eb5",
   "metadata": {},
   "outputs": [],
   "source": [
    "# print(med_vicuna['train'][4]['conversation'])\n"
   ]
  },
  {
   "cell_type": "code",
   "execution_count": 18,
   "id": "0fa3d9c0-559e-4144-81dc-1671c6318fa5",
   "metadata": {},
   "outputs": [],
   "source": [
    "# print(med_vicuna['test'][2]['conversation'])\n"
   ]
  },
  {
   "cell_type": "code",
   "execution_count": null,
   "id": "e3157dd1-9a9c-4567-99ff-7c085f748e92",
   "metadata": {},
   "outputs": [],
   "source": []
  }
 ],
 "metadata": {
  "kernelspec": {
   "display_name": "Python 3 (ipykernel)",
   "language": "python",
   "name": "python3"
  },
  "language_info": {
   "codemirror_mode": {
    "name": "ipython",
    "version": 3
   },
   "file_extension": ".py",
   "mimetype": "text/x-python",
   "name": "python",
   "nbconvert_exporter": "python",
   "pygments_lexer": "ipython3",
   "version": "3.10.12"
  }
 },
 "nbformat": 4,
 "nbformat_minor": 5
}
