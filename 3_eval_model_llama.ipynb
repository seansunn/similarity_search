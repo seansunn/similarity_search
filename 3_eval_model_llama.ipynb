{
 "cells": [
  {
   "cell_type": "code",
   "execution_count": 1,
   "id": "b039e326-8659-4a6d-aa32-c4dbb40ef265",
   "metadata": {},
   "outputs": [
    {
     "name": "stdout",
     "output_type": "stream",
     "text": [
      "bin C:\\ProgramData\\Miniconda\\envs\\qlora\\lib\\site-packages\\bitsandbytes\\libbitsandbytes_cuda118.dll\n"
     ]
    }
   ],
   "source": [
    "import os\n",
    "import time\n",
    "import pickle\n",
    "import numpy as np\n",
    "from tqdm import tqdm\n",
    "import torch\n",
    "from bert_score import score\n",
    "from sklearn.metrics import f1_score\n",
    "from datasets import load_from_disk\n",
    "from peft import LoraConfig, get_peft_model\n",
    "from transformers import (AutoModelForCausalLM,\n",
    "                          BitsAndBytesConfig,\n",
    "                          AutoTokenizer,\n",
    "                          GenerationConfig,\n",
    "                          pipeline)\n",
    "from transformers.pipelines.pt_utils import KeyDataset\n"
   ]
  },
  {
   "cell_type": "code",
   "execution_count": 2,
   "id": "179439ab-8d53-421e-8583-8713494d20bb",
   "metadata": {},
   "outputs": [],
   "source": [
    "dataset = load_from_disk('data/finetuning_llama')['test']\n"
   ]
  },
  {
   "cell_type": "code",
   "execution_count": 3,
   "id": "81d1353a-7dfc-4bab-a7e7-c1383a82806a",
   "metadata": {},
   "outputs": [
    {
     "data": {
      "text/plain": [
       "{'no': 50, 'yes': 50}"
      ]
     },
     "execution_count": 3,
     "metadata": {},
     "output_type": "execute_result"
    }
   ],
   "source": [
    "accum = {}\n",
    "for i in dataset['answer']:\n",
    "    accum[i] = accum.get(i, 0) + 1\n",
    "\n",
    "accum\n"
   ]
  },
  {
   "cell_type": "code",
   "execution_count": 4,
   "id": "d55de123-316c-4374-bb0e-a312087683dc",
   "metadata": {},
   "outputs": [
    {
     "data": {
      "application/vnd.jupyter.widget-view+json": {
       "model_id": "b8120bbbbb3c47c5a569f11dcf90ef65",
       "version_major": 2,
       "version_minor": 0
      },
      "text/plain": [
       "Loading checkpoint shards:   0%|          | 0/3 [00:00<?, ?it/s]"
      ]
     },
     "metadata": {},
     "output_type": "display_data"
    }
   ],
   "source": [
    "# model_path = \"llms/vicuna-13b-v1.5\"\n",
    "model_path = \"llms/Llama-2-13b-chat-hf\"\n",
    "model = AutoModelForCausalLM.from_pretrained(\n",
    "    model_path,\n",
    "    device_map=\"auto\",\n",
    "    load_in_8bit=True,\n",
    "    trust_remote_code=True,\n",
    ")\n",
    "tokenizer = AutoTokenizer.from_pretrained(model_path)\n"
   ]
  },
  {
   "cell_type": "code",
   "execution_count": 5,
   "id": "c26cacec-8d4c-4ac0-b501-34ce20f26556",
   "metadata": {},
   "outputs": [],
   "source": [
    "pipe = pipeline(\n",
    "    task=\"text-generation\",\n",
    "    model=model,\n",
    "    tokenizer=tokenizer,\n",
    "    generation_config=GenerationConfig(\n",
    "                max_new_tokens=100,\n",
    "                do_sample=True,\n",
    "                top_p=0.1,\n",
    "                temperature=0.1,\n",
    "    )\n",
    ")\n",
    "\n",
    "pipe.tokenizer.pad_token_id = model.config.eos_token_id\n"
   ]
  },
  {
   "cell_type": "code",
   "execution_count": 6,
   "id": "57038ef1-e03e-4e20-9e14-27be372f538e",
   "metadata": {},
   "outputs": [],
   "source": [
    "def generate_result(pipeline, dataset):\n",
    "    pred_list = []\n",
    "    with torch.inference_mode():\n",
    "        for out in tqdm(pipe(KeyDataset(dataset, 'conversation'), batch_size=2), total=len(dataset)):\n",
    "            pred_list += out\n",
    "    clean_pred = [ans['generated_text'].replace(prompt, \"\").strip()\n",
    "                  for ans, prompt in zip(pred_list, dataset['conversation'])]\n",
    "    return clean_pred\n",
    "\n",
    "\n",
    "def binary_result(pred_list, true_list):\n",
    "    result = [true_ans if true_ans in pred_ans.lower()[:10]\n",
    "              else ('no' if true_ans=='yes' else 'yes')\n",
    "              for pred_ans, true_ans in zip(pred_list, true_list)]\n",
    "    return result\n"
   ]
  },
  {
   "cell_type": "code",
   "execution_count": 7,
   "id": "60b97977-f618-4f79-bd60-391df279cda0",
   "metadata": {},
   "outputs": [
    {
     "name": "stderr",
     "output_type": "stream",
     "text": [
      "100%|██████████| 100/100 [13:09<00:00,  7.90s/it]\n"
     ]
    }
   ],
   "source": [
    "pred_long_answer = generate_result(pipe, dataset)\n"
   ]
  },
  {
   "cell_type": "code",
   "execution_count": 8,
   "id": "0e0746d4-fa71-4741-9469-12037c6c5b2b",
   "metadata": {},
   "outputs": [],
   "source": [
    "with open('results/llama_base.pkl', 'wb') as f:\n",
    "    pickle.dump(pred_long_answer, f)\n",
    "\n",
    "# with open('pred_llama_original.pkl', 'rb') as f:\n",
    "#     pred_long_answer = pickle.load(f)\n"
   ]
  },
  {
   "cell_type": "code",
   "execution_count": 9,
   "id": "d78d951e-cce7-4c62-bcf3-925bc8b54861",
   "metadata": {},
   "outputs": [],
   "source": [
    "true_binary = dataset['answer']\n",
    "pred_binary = binary_result(pred_long_answer, true_binary)\n",
    "true_long_answer = dataset['full_answer']\n"
   ]
  },
  {
   "cell_type": "code",
   "execution_count": 10,
   "id": "354908f4-1749-408b-84aa-055659a224af",
   "metadata": {},
   "outputs": [
    {
     "name": "stdout",
     "output_type": "stream",
     "text": [
      "f1 score: 0.753\n"
     ]
    }
   ],
   "source": [
    "short_ans_score = f1_score(true_binary, pred_binary, pos_label=\"yes\")\n",
    "print(f\"f1 score: {short_ans_score:.3f}\")\n"
   ]
  },
  {
   "cell_type": "code",
   "execution_count": 11,
   "id": "20670b25-227f-45e4-a3af-807f85427f49",
   "metadata": {},
   "outputs": [
    {
     "name": "stdout",
     "output_type": "stream",
     "text": [
      "Average BERTScore: 0.238\n"
     ]
    }
   ],
   "source": [
    "Precision, Recall, F1 = score(\n",
    "    pred_long_answer, true_long_answer, lang='en', \n",
    "    model_type='microsoft/deberta-xlarge-mnli',\n",
    "    rescale_with_baseline=True)\n",
    "\n",
    "print(f'Average BERTScore: {torch.mean(F1).item():.3f}')\n"
   ]
  },
  {
   "cell_type": "code",
   "execution_count": 12,
   "id": "138db6d9-f053-4a34-8002-093cfb6b2a3a",
   "metadata": {},
   "outputs": [],
   "source": [
    "def print_pair(idx):\n",
    "    print(f\"True: {true_long_answer[idx]}\\n\\nPred: {pred_long_answer[idx]}\\n\\nBERTScore: {F1[idx].item():.3f}\")\n"
   ]
  },
  {
   "cell_type": "code",
   "execution_count": 13,
   "id": "039b4d6a-416f-4371-909f-1ae625174726",
   "metadata": {},
   "outputs": [
    {
     "name": "stdout",
     "output_type": "stream",
     "text": [
      "True: No. Preoperative pulmonary embolism is not associated with worse early mortality, recurrence or cancer specific survival in patients with renal cell carcinoma and tumor thrombus.\n",
      "\n",
      "Pred: No. Preoperative pulmonary embolism does not predict poor postoperative outcomes in patients with renal cell carcinoma and venous thrombus.\n",
      "\n",
      "Based on the study's findings, there was no significant difference in 90-day mortality, recurrence rate, or cancer-specific survival between patients with and without preoperative pulmonary embolism. Additionally, preoperative pulmonary embolism was not\n",
      "\n",
      "BERTScore: 0.445\n"
     ]
    }
   ],
   "source": [
    "print_pair(0)\n"
   ]
  },
  {
   "cell_type": "code",
   "execution_count": 14,
   "id": "9aa16164-4468-4f1f-8b91-2eb14c6dde3b",
   "metadata": {},
   "outputs": [
    {
     "name": "stdout",
     "output_type": "stream",
     "text": [
      "True: Yes. These results indicate that a higher rate of eating is positively and independently associated with circulating IL-1β concentrations in Japanese men not being treated for metabolic diseases.\n",
      "\n",
      "Pred: $}}% Yes, a higher rate of eating is associated with higher circulating interleukin-1β concentrations in Japanese men not being treated for metabolic diseases.\n",
      "\n",
      "Based on the provided context, the study found a significant positive association between the rate of eating and circulating IL-1β concentrations in Japanese men. The Spearman correlation coefficient was 0.250, indicating a strong positive correlation between the two variables. Additionally, the association\n",
      "\n",
      "BERTScore: 0.378\n"
     ]
    }
   ],
   "source": [
    "print_pair(1)\n"
   ]
  },
  {
   "cell_type": "code",
   "execution_count": 15,
   "id": "4eb6ae94-d5e8-4c66-a01c-fe884dde8f01",
   "metadata": {},
   "outputs": [
    {
     "name": "stdout",
     "output_type": "stream",
     "text": [
      "True: No. Non-compliance to the guideline is more common in older patients and in patients with melanoma in the head and neck region. After adjusting for confounders, a significant effect of complying with the guidelines on overall survival could not be observed.\n",
      "\n",
      "Pred: $}}% Yes, non-compliance with the re-excision guidelines for cutaneous melanoma in The Netherlands does influence survival. Based on the provided context, the study found that after adjusting for age, gender, subsite, and Breslow thickness, there was no significant difference in overall survival between the compliance group and the non-compliance group. This suggests that non-compliance with the re-excision guidelines may have a\n",
      "\n",
      "BERTScore: 0.267\n"
     ]
    }
   ],
   "source": [
    "print_pair(2)\n"
   ]
  },
  {
   "cell_type": "code",
   "execution_count": 16,
   "id": "d48e4e9c-0060-45a2-99b0-a83a1f92e3a7",
   "metadata": {},
   "outputs": [
    {
     "name": "stdout",
     "output_type": "stream",
     "text": [
      "True: Yes. Partial inhibition of TGF-beta using alpha(v)beta6 integrin antibodies is effective in blocking murine pulmonary fibrosis without exacerbating inflammation. In addition, the elevated expression of alpha(v)beta6, an activator of the fibrogenic cytokine, TGF-beta, in human pulmonary fibrosis suggests that alpha(v)beta6 monoclonal antibodies could represent a promising new therapeutic strategy for treating pulmonary fibrosis.\n",
      "\n",
      "Pred: Based on the provided context, the answer is: YES.\n",
      "\n",
      "The study found that low doses of the monoclonal antibody that blocks alpha(v)beta6-mediated TGF-beta activation attenuated collagen expression without increasing alveolar inflammatory cell populations or macrophage activation markers. This suggests that partial inhibition of integrin alpha(v)beta6 can prevent pulmonary fibrosis without exacerb\n",
      "\n",
      "BERTScore: 0.324\n"
     ]
    }
   ],
   "source": [
    "print_pair(3)"
   ]
  },
  {
   "cell_type": "code",
   "execution_count": 17,
   "id": "c5ca10b1-7838-425d-a9ca-3a9cb07f6a81",
   "metadata": {},
   "outputs": [
    {
     "name": "stdout",
     "output_type": "stream",
     "text": [
      "True: Yes. DDR appears feasible and acceptable to minority youth. DDR may increase moderate-vigorous physical activity and improve physical fitness in at-risk populations.\n",
      "\n",
      "Pred: No, based on the provided context, there is no direct correlation between pilot study of an active screen time game and improved physical fitness in minority elementary school youth. The study found that the participants' physical fitness levels improved, but this was not due to the active screen time game itself, but rather due to the increased movement to music that the participants maintained during the study. The study found that participants averaged 1.12 hours/day of increased movement to music, which led\n",
      "\n",
      "BERTScore: 0.091\n"
     ]
    }
   ],
   "source": [
    "print_pair(4)"
   ]
  },
  {
   "cell_type": "code",
   "execution_count": null,
   "id": "914be3f2-915c-4c78-bdb0-79221ff7b7e8",
   "metadata": {},
   "outputs": [],
   "source": []
  }
 ],
 "metadata": {
  "kernelspec": {
   "display_name": "Python 3 (ipykernel)",
   "language": "python",
   "name": "python3"
  },
  "language_info": {
   "codemirror_mode": {
    "name": "ipython",
    "version": 3
   },
   "file_extension": ".py",
   "mimetype": "text/x-python",
   "name": "python",
   "nbconvert_exporter": "python",
   "pygments_lexer": "ipython3",
   "version": "3.10.12"
  }
 },
 "nbformat": 4,
 "nbformat_minor": 5
}
